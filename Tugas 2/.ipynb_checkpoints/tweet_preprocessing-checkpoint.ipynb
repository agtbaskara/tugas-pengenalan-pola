{
 "cells": [
  {
   "cell_type": "code",
   "execution_count": 2,
   "metadata": {},
   "outputs": [],
   "source": [
    "import pandas as pd\n",
    "import nltk\n",
    "from Sastrawi.Stemmer.StemmerFactory import StemmerFactory"
   ]
  },
  {
   "cell_type": "code",
   "execution_count": null,
   "metadata": {},
   "outputs": [],
   "source": [
    "factory = StemmerFactory()\n",
    "stemmer = factory.create_stemmer()"
   ]
  },
  {
   "cell_type": "code",
   "execution_count": 3,
   "metadata": {},
   "outputs": [],
   "source": [
    "df = pd.read_csv(\"raw_tweet.csv\")"
   ]
  },
  {
   "cell_type": "code",
   "execution_count": 19,
   "metadata": {},
   "outputs": [
    {
     "name": "stdout",
     "output_type": "stream",
     "text": [
      "['rt', '@', 'sudjiwotedjo', ':', 'yth', 'pak', 'jokowi', 'dan', 'pak', 'probowo', ',', 'bagaimana', 'sampeyan', 'nanti', 'kalau', 'terpilih', 'jadi', 'presiden', '2019', 'bila', 'makin', 'banyak', 'generasi', 'mud…']\n",
      "['@', 'eae18', '@', 'jokowi', 'kira2', 'kalo', 'jkw', 'kalah', ',', 'bakal', 'jilat', 'prabowo', 'ngga', 'yaa', '?', '?', '?']\n",
      "['@', 'banyolanhidup', '@', 'detikcom', '@', 'jokowi', '@', 'detikfinance', 'solusi', 'na', 'mah', 'hapuskeun', 'nepotisme', 'ti', 'semua', 'perusahaan', 'perekrut', 'mau', 'b…', 'https', ':', '//t.co/indrsnz5ry']\n",
      "['rt', '@', 'sudjiwotedjo', ':', 'yth', 'pak', 'jokowi', 'dan', 'pak', 'probowo', ',', 'bagaimana', 'sampeyan', 'nanti', 'kalau', 'terpilih', 'jadi', 'presiden', '2019', 'bila', 'makin', 'banyak', 'generasi', 'mud…']\n",
      "['rt', '@', 'xcintakiehlx', ':', 'jadi', 'presiden', 'itu', 'berat', '!', 'biar', 'pak', '@', 'jokowi', 'saja', '!', '👍', 'https', ':', '//t.co/5inzxk5aeq']\n",
      "['rt', '@', 'detikcom', ':', 'seorang', 'ibu', 'menyebut', 'pemerintahan', '@', 'jokowi', 'akan', 'menghapus', 'kurikulum', 'agama', '.', 'menariknya', ',', 'ibu', 'ini', 'menggunakan', 'atribut', 'pks', 'dalam', 'k…']\n",
      "['rt', '@', 'irhmfaqih', ':', 'tkn', 'akan', 'laporkan', 'emak', 'emak', 'berbaju', 'pks', 'kampanye', 'hitam', 'terhadap', 'jokowi', 'kenapa', 'kampanye', 'hitam', 'seperti', 'ini', 'masih', 'juga', 'berlanju…']\n",
      "['rt', '@', 'xcintakiehlx', ':', 'jadi', 'presiden', 'itu', 'berat', '!', 'biar', 'pak', '@', 'jokowi', 'saja', '!', '👍', 'https', ':', '//t.co/5inzxk5aeq']\n",
      "['@', 'rekan_fikri', 'yang', 'dalam', 'kampanye', 'nya', 'pak', '@', 'jokowi', 'membahas', 'program', 'kerja', 'kedepan', 'bukan', 'menjelekkan', 'dan', 'mengkritik', 'paslon', 'lain', '#', 'sdmpremium']\n",
      "['rt', '@', 'ekowboy', ':', 'mendikbud', 'minta', 'guru', 'bergaji', 'rp750', 'ribu', 'ikhlas', '.', 'ya', 'allah..', 'kami', 'ikhlas', 'dunia', 'akhirat', 'jokowi', 'diganti', '!', '!', '#', 'takutkalahgakmaucuti…']\n",
      "['rt', '@', 'ireneviena', ':', 'paling', 'mengenaskan', 'pertamina', 'dan', 'pln', 'pertamina', 'mengalami', 'penurunan', 'laba', '80', '%', 'dari', 'rp40', 'triliun', 'anjlok', 'jdi', 'rp5', 'triliun', 'pln…']\n",
      "['rt', '@', 'bambangelf', ':', 'sebagai', 'temannya', 'aa', ',', 'saya', 'berharap', 'aa', 'tabah', 'menghadapi', 'kasus', 'ini..', 'friend', 'will', 'be', 'friends..', 'sebagai', 'temannya', 'poyu', ',', 'aku', 'mik…']\n",
      "['@', 'detikcom', 'orang', \"''\", 'ga', 'jelas', ',', 'nanti', 'kepeleset', 'jatuh', 'pak', 'jokowi', 'lagi', 'yg', 'disalahkan', '...', '.aneh', 'saja']\n",
      "['rt', '@', 'uki23', ':', '😇', 'ahok', 'itu', 'apa', '?', '😡', 'kafir', '!', '😇', 'kalau', 'rocky', 'gerung', '?', '😡', 'non', 'muslim', '!', '😇', 'bro', ',', 'jokowi', 'jadi', 'imam', 'salat', 'lho', '!', '😡', 'itu', 'riya', '!', 'salat', 'itu', 'ga', 'boleh…']\n",
      "['@', 'detikcom', '@', 'jokowi', '@', 'detikfinance', 'jadi', 'pengangguran', 'ae', 'dah', '@', 'ali_ayyas', '@', 'fathurrohmanrp']\n",
      "['@', 'xcintakiehlx', '@', 'jokowi', 'aku', 'retweet', 'biar', '@', 'xcintakiehlx', 'beneran', 'jadi', 'presiden', 'indonesia', '.', 'mungkin', '.', 'suatu', 'saat', 'nanti']\n",
      "['ibu..teruskan', 'lah', 'ngibul', 'mu', 'itu', ',', 'ntar', 'tnggung', 'jwb', 'sndiri', 'jika', 'diproses', 'hukum..menang', 'kagak', ',', 'malah', 'ngibul', 'nya', 'terus', 'di…', 'https', ':', '//t.co/giayye4sya']\n",
      "['rt', '@', 'jagajokowi', ':', 'jangan', 'jadi', 'presiden', '.', 'berat', '.', 'biar', 'pakde', '@', 'jokowi', 'aja', '.', '#', '01indonesiamaju', 'https', ':', '//t.co/5edkctx3vt']\n",
      "['rt', '@', 'geloraco', ':', 'lihat', 'jokowi', 'bagi-bagi', 'bingkisan', ',', 'pan', 'tuntut', 'dua', 'calegnya', 'dibebaskan', '#', 'jatimmenangkan_prabowo_sandi', '#', 'takutkalahgakmaucuti', 'htt…']\n",
      "['rencana', '@', 'jokowi', 'memberikan', 'gaji', 'kepada', 'pengangguran', 'dinilai', 'bisa', 'membuat', 'orang', 'malas', 'mencari', 'kerja', '.', 'ini', 'kata', 'peneli…', 'https', ':', '//t.co/89jnrtujk4']\n",
      "['rencana', '@', 'jokowi', 'memberikan', 'gaji', 'kepada', 'pengangguran', 'dinilai', 'bisa', 'membuat', 'orang', 'malas', 'mencari', 'kerja', '.', 'ini', 'kata', 'peneli…', 'https', ':', '//t.co/jftzpj0sfl']\n",
      "['rt', '@', 'gunromli', ':', 'dari', 'pecandu', 'narkoba', 'smpe', 'penyebar', 'hoax', ',', 'satu', 'gerombolan', 'dalam', 'pemenangan', '.', 'mau', 'mereka', 'menang', '?', 'negeri', 'ini', 'akan', 'bentumpuk', 'narko…']\n",
      "['rt', '@', 'xcintakiehlx', ':', 'jadi', 'presiden', 'itu', 'berat', '!', 'biar', 'pak', '@', 'jokowi', 'saja', '!', '👍', 'https', ':', '//t.co/5inzxk5aeq']\n",
      "['rt', '@', 'r_gun4w4n', ':', 'selamat', 'berjuang', 'pak', '@', 'ekosandjojo', 'semoga', 'sukses', 'mewakili', 'masyarakat', 'bengkulu', 'mewujudkan', 'indonesia', 'maju', '...', '✊', 'satukan', 'indones…']\n",
      "['@', 'ustadtengkuzul', 'satu', 'persatu', 'orang', 'yg', 'sering', 'nyinyir', 'ke', 'bpk', 'jokowi', ',', 'di', 'buka', 'aibnya', ',', ',', 'selanjutnya', 'siapa', 'lagi', 'yg', 'ak…', 'https', ':', '//t.co/3axis4trbh']\n",
      "['@', 'partaisocmed', '@', 'alhe_507', 'saya', 'suka', 'kalau', 'makasar', 'begerak', 'mendukung', '@', 'jokowi', '.', 'kantong', 'kantong', 'suara', 'koh', 'wowo', 'harus', 'di…', 'https', ':', '//t.co/f0laomvgpn']\n",
      "['rt', '@', 'mcaops', ':', 'tindakan', 'represif', 'aparat', 'kepolisian', 'terhadap', 'mahasiswa', 'muhammadiyah', 'di', 'kendari', 'dikecam', '.', \"''insiden\", 'tersebut', 'menjadi', 'bukti', 'bahwa…']\n",
      "['rt', '@', 'jokowi', ':', 'menerima', 'kedatangan', '371', 'siswa', 'sma', 'taruna', 'nusantara', 'di', 'istana', 'bogor', ',', 'kemarin', '.', 'mereka', 'datang', 'dengan', 'seragam', 'biru', 'dan', 'dasi', 'hitam', ',', '…']\n",
      "['rt', '@', 'xcintakiehlx', ':', 'jadi', 'presiden', 'itu', 'berat', '!', 'biar', 'pak', '@', 'jokowi', 'saja', '!', '👍', 'https', ':', '//t.co/5inzxk5aeq']\n",
      "['@', 'suciberani', 'salam', '2', 'periode', 'untuk', 'kemenangan', 'jokowi', '2', 'periode']\n",
      "['@', 'budimandjatmiko', 'survey', 'roy', 'suroy', 'jokowi', '10', '%', 'prabowo', '80', '%', 'nurhadi', '10', '%', '#', 'takutkalahgakmaucuti']\n",
      "['deklarasi', 'dukungan', 'gus', ',', 'lora', 'dan', 'tokoh', 'muda', '``', 'barisan', 'muda', 'aswaja', 'an-nahdliyah', 'indonesia', '(', 'barmawi', ')', \"''\", 'kab', '.', 'jember', 'untu…', 'https', ':', '//t.co/vxppoy3h43']\n",
      "['rt', '@', 'xcintakiehlx', ':', 'jadi', 'presiden', 'itu', 'berat', '!', 'biar', 'pak', '@', 'jokowi', 'saja', '!', '👍', 'https', ':', '//t.co/5inzxk5aeq']\n",
      "['rt', '@', 'isekaihero', ':', 'dan', 'akhirnye', 'para', 'buzzer', 'laknat', 'peliharaan', '@', 'jokowi', 'dan', 'para', 'cebongnya', 'gagal', 'klimaks', '.', '😂', '✓', 'polisi', 'tegaskan', 'andi', 'arief', 'sendir…']\n",
      "['@', 'detikfinance', '@', 'jokowi', 'lapangan', 'pekerjaan', 'dan', 'sdm', 'yg', 'tinggi', 'lebih', 'penting', 'buat', 'kemajuan', 'negeri', 'ini', 'di', 'masa', 'depan']\n",
      "['rt', '@', 'imanlagi', ':', 'pokoknya', 'salah', 'jokowi', 'https', ':', '//t.co/kbrtv9zeid']\n",
      "['jokowi', 'mau', 'gaji', 'pengangguran', ',', 'penting', 'nggak', 'sih', '?', 'https', ':', '//t.co/rs0ld2eygt']\n",
      "['rt', '@', 'candraasmara85', ':', 'guys', '...', 'lupakan', 'andi', 'sang', 'contoh', 'buruk', 'tuk', 'bangsa', 'ini', '.', 'lihatlah', ',', 'saksikan', '!', 'btapa', 'gebyar', '&', 'amp', ';', 'membaranya', 'anak', 'bangsa', 'di…']\n",
      "['u', 'jatuh', '?', 'salah', 'jokowi', 'u', 'miskin', '?', 'salah', 'jokowi', 'u', 'sakit', '?', 'salah', 'jokowi', 'u', 'tewas', '?', 'salah', 'jokowi', 'enaknya', 'bs', 'nyalahin', 'orang…', 'https', ':', '//t.co/wcwk9heq0k']\n",
      "['rt', '@', 'budimandjatmiko', ':', 'survei', 'roy', 'morgan', ':', 'di', 'pedesaan', ',', 'jokowi', '63,5', '%', '&', 'amp', ';', 'prabowo', '36,5', '%', '|', 'https', ':', '//t.co/agi3jkpttk', 'https', ':', '//t.co/2h2lzp2u2a']\n",
      "['@', 'xcintakiehlx', '@', 'jokowi', 'kalo', 'kak', 'cinta', 'yang', 'nyaranin', ',', 'okelah', 'saya', 'ajak', '10', 'rb', 'anggota', 'komunitas', 'saya', 'untuk', 'pilih', '01', '.', 'b…', 'https', ':', '//t.co/ocxg25zy7h']\n",
      "['rt', '@', 'detikcom', ':', 'seorang', 'ibu', 'menyebut', 'pemerintahan', '@', 'jokowi', 'akan', 'menghapus', 'kurikulum', 'agama', '.', 'menariknya', ',', 'ibu', 'ini', 'menggunakan', 'atribut', 'pks', 'dalam', 'k…']\n",
      "['rt', '@', 'ecosocrights', ':', 'pokoknya', 'kasih', 'janji', 'dulu', ',', 'ngitung', 'kemudian', '.', 'kalau', 'nggak', 'masuk', 'akal', 'gampang', ',', 'nanti', 'tinggal', 'dibatalkan', '.', 'sama', 'spt', 'nawacita', ',', '…']\n",
      "['rt', '@', 'dr_stein08', ':', 'mana', 'yang', 'benar', 'pak', 'jokowi', '?', 'lahir', 'di', 'pinggir', 'kali', 'atau', 'di', 'rumah', 'sakit', '?', 'https', ':', '//t.co/o8sdspmm2q']\n",
      "['rt', '@', 'xcintakiehlx', ':', 'jadi', 'presiden', 'itu', 'berat', '!', 'biar', 'pak', '@', 'jokowi', 'saja', '!', '👍', 'https', ':', '//t.co/5inzxk5aeq']\n",
      "['rt', '@', 'gunromli', ':', 'dari', 'pecandu', 'narkoba', 'smpe', 'penyebar', 'hoax', ',', 'satu', 'gerombolan', 'dalam', 'pemenangan', '.', 'mau', 'mereka', 'menang', '?', 'negeri', 'ini', 'akan', 'bentumpuk', 'narko…']\n",
      "['rt', '@', 'manompangfhtp', ':', 'enaknya', 'dizaman', '@', 'jokowi', 'ya', 'begini', ',', 'dibiayain', 'kuliah', 'hingga', 'keluar', 'negeri', '.', '#', 'sdmpremium', 'bisa', 'terwujud', '...', 'https', ':', '//t.co/ess2…']\n",
      "['rt', '@', 'nusantaratho', ':', 'pak', 'presiden', '@', 'jokowi', 'paparkan', 'dua', 'kunci', 'utama', 'pembangunan', 'sdm', '...', '✍', '#', 'sdmpremium', '#', '01indonesiamaju', '@', 'pak_jk', '@', 'hanifdhakiri', 'h…']\n",
      "['rt', '@', 'xcintakiehlx', ':', 'jadi', 'presiden', 'itu', 'berat', '!', 'biar', 'pak', '@', 'jokowi', 'saja', '!', '👍', 'https', ':', '//t.co/5inzxk5aeq']\n",
      "['rt', '@', 'sudjiwotedjo', ':', 'yth', 'pak', 'jokowi', 'dan', 'pak', 'probowo', ',', 'bagaimana', 'sampeyan', 'nanti', 'kalau', 'terpilih', 'jadi', 'presiden', '2019', 'bila', 'makin', 'banyak', 'generasi', 'mud…']\n",
      "['rt', '@', 'baretputiih', ':', 'ustad', '@', 'yusuf_mansur', 'ane', 'mau', 'tanya', 'dr', 'pernyataan', 'antum', 'ini', ',', '1.', 'apa', 'ini', 'benar', 'klr', 'dr', 'mulut', 'antum', '2', '.', 'apakah', 'dengan', 'mengingkar…']\n",
      "['rt', '@', 'detikcom', ':', 'tim', 'kampanye', 'nasional', '(', 'tkn', ')', \"jokowi-ma'ruf\", 'amin', 'kembali', 'membeberkan', 'penerimaan', 'dan', 'pengeluaran', 'dana', 'kampanye', 'dari', '23', 'september…']\n",
      "['rt', '@', 'murtadhaone', ':', 'detik-detik', 'adian', 'napitupulu', 'menguliti', '#', 'koalisiprabohong', '1', '.', 'mertuanya', 'yg', 'berikan', '30', 'juta', 'hektar', 'tanah', 'ke', 'perusahaan2', 'asin…']\n",
      "['@', 'bwirawwn', '@', 'haikal_hassan', 'jangan', 'lupa', 'pilih', 'jokowi', ',', '#', 'nyanyi']\n",
      "['rt', '@', 'sudjiwotedjo', ':', 'yth', 'pak', 'jokowi', 'dan', 'pak', 'probowo', ',', 'bagaimana', 'sampeyan', 'nanti', 'kalau', 'terpilih', 'jadi', 'presiden', '2019', 'bila', 'makin', 'banyak', 'generasi', 'mud…']\n",
      "['rt', '@', 'fagtng', ':', 'wahai', 'teman', 'seumuran', ',', 'generasi', 'milenial..', 'kalian', 'sama', 'seperti', 'aq', ',', 'pilpres', '2019', 'adalah', 'pertama', 'kali', 'kita', 'ikuti', '.', 'suara', 'ini', 'yg', 'su…']\n",
      "['rt', '@', 'xcintakiehlx', ':', 'jadi', 'presiden', 'itu', 'berat', '!', 'biar', 'pak', '@', 'jokowi', 'saja', '!', '👍', 'https', ':', '//t.co/5inzxk5aeq']\n",
      "['rt', '@', 'dianyounee', ':', '``', 'jadi', 'yang', 'lebih', 'urgent', 'dilakukan', 'oleh', 'pemerintah', 'semestinya', 'mendorong', 'penyediaan', 'lapangan', 'kerja', 'formal', 'sebanyak-banyaknya', ',', '…']\n",
      "['hindari', 'perpecahan', ',', 'presiden', 'jokowi', 'minta', 'siswa', 'sma', 'taruna', 'nusantara', 'berani', 'luruskan', 'berita', 'hoaks', 'https', ':', '//t.co/ot9wsoywsg']\n",
      "['rt', '@', 'vegaeriadany', ':', 'dan', 'jennie', 'blackpink', 'akrab', 'banget', 'dengan', 'jokowi', '.', 'makanya', 'dia', 'buat', 'lagu', '``', 'solo', \"''\", 'sesuai', 'dengan', 'daerah', 'asal', 'pak', 'jokowi', 'https', ':', '…']\n",
      "['rt', '@', 'zelby_usman', ':', 'salah', 'satu', 'progra', 'yg', 'dibutuhkan', 'masyarakat', 'akan', 'dilakukan', 'oleh', 'pak', '@', 'jokowi', 'jika', 'terpilih', 'kembali..', '#', 'sdmpremium', 'https', ':', '//t.c…']\n",
      "['rt', '@', 'indonesiakitaco', ':', 'surya', 'paloh', 'beri', 'isyarat', 'pesimis', 'jika', 'jokowi', 'kalah', ',', 'rizal', 'ramli', ':', 'kok', 'ada', 'argumen', 'konyol', 'dan', 'nakutin', '?', 'https', ':', '//t.co/0od…']\n",
      "['rt', '@', 'sudjiwotedjo', ':', 'pendukung', 'pak', 'jokowi', 'fokus', 'ngomong', 'baik2nya', 'pak', 'jokowi', 'aja', '.', 'nggak', 'usah', 'buruk2nya', 'pak', 'prabowo', '.', 'begitu', 'jg', ',', 'sebaliknya', ',', 'pen…']\n",
      "['rt', '@', 'ekowboy', ':', 'pak', 'kapolri', 'tito', 'berjanji', 'akan', 'menindak', 'tegas', 'fitnah', 'dari', 'kelompok', 'manapun..', 'erlinda', ',', 'tkn', 'jokowi', \"ma'ruf\", 'melontarkan', 'fitnah', 'pr…']\n",
      "['nyinyir', 'fitnah', 'hoaks', 'marco', 'soal', 'karya', 'jokowi', 'di', 'dki', ',', 'dasar', 'picik', ',', 'picek', 'dan', 'pekok', 'https', ':', '//t.co/vp5lsmhhot']\n",
      "['rt', '@', 'ronavioleta', ':', 'lho', '?', '😁', 'alasan', 'para', 'caleg', 'takut', 'suaranya', 'bkurang', 'jk', 'terang2an', 'kampanye', 'jokmin', 'di', 'ranah', 'minang', '.', '``', 'kalau', 'kalah', 'kan', 'mereka', 'rug…']\n",
      "['@', 'dahnilanzar', 'udah', 'jelas', 'salah', 'jokowi', 'lah', 'dahnil']\n",
      "['rt', '@', 'handokotjung', ':', 'blackpink', 'adalah', 'pendukung', 'jokowi', ',', 'karena', 'lirik', 'mereka', 'jika', 'diartikan', 'adalah', '``', 'kerja', ',', 'kerja', ',', 'kerja', ',', 'kerja', '.', \"''\", '``', 'do', ',', 'do', ',', 'do', ',', '…']\n",
      "['@', 'detikfinance', '@', 'jokowi', 'janji', 'busuk']\n",
      "['rt', '@', 'abramansya', ':', 'orang', 'lain', 'yg', 'merasakn', 'nikmat', '.', 'jokowi', 'yg', 'salah', 'hedeeeeeeh', 'otak', 'mana', 'otak', 'oiiiii', '#', 'sepreinyapink', 'https', ':', '//t.co/zsxfnmm8od']\n",
      "['rt', '@', 'habibthink', ':', 'bagaimana', 'nih', 'pks', '?', 'kok', 'bisa', 'begini', '?', 'jangan', 'heran', 'kalau', 'masyarakat', 'mengira', 'sumber', 'fitnah', 'ternyata', 'dari', 'kalian', '.', 'https', ':', '//t.…']\n",
      "['rt', '@', 'dennysiregar7', ':', '``', 'rezim', '@', 'jokowi', 'ini', 'membebani', 'rakyat', '.', 'hutang', 'semakin', 'bengkak', '.', 'banyak', 'tka', 'aseng', 'jadi', 'pekerja', '.', 'malah', 'bangun', 'jalan', 'tol', '.', 'mema…']\n",
      "['rt', '@', 'sudjiwotedjo', ':', 'yth', 'pak', 'jokowi', 'dan', 'pak', 'probowo', ',', 'bagaimana', 'sampeyan', 'nanti', 'kalau', 'terpilih', 'jadi', 'presiden', '2019', 'bila', 'makin', 'banyak', 'generasi', 'mud…']\n",
      "['@', 'fadlizon', '@', 'jokowi', 'bang', 'fadli', 'jenis', 'jalan', 'itu', 'ada', 'jalan', 'desa', ',', 'jalan', 'kec', ',', 'jln', 'kab', ',', 'jln', 'prov', 'dan', 'jalan', 'nasional', 'coba', 'd…', 'https', ':', '//t.co/situmso19s']\n",
      "['@', 'detikcom', '@', 'jokowi', '@', 'detikfinance', 'masyarakat', 'pada', 'malas', \"''\", 'nanti']\n",
      "['rt', '@', 'herrreza', ':', 'sapi', 'bongkrek', 'kapan', 'kapoknya', '?', 'emak-emak', 'sebut', 'jokowi', 'akan', 'hapus', 'pelajaran', 'agama', 'berbaju', 'logo', 'pks', 'https', ':', '//t.co/obzqstotec']\n",
      "['@', 'detikcom', '@', 'jokowi', '@', 'detikfinance', 'ngibul', 'kok', 'direspon']\n",
      "['@', 'irawan_kusnadi1', '@', 'gunromli', 'fakta', 'nya', 'hoax', 'merajalela', 'semenjak', 'jokowi', 'jadi', 'presiden.karena', 'presiden', 'sendiri', 'yang', 'ben…', 'https', ':', '//t.co/6as7byklmf']\n",
      "['rt', '@', 'xcintakiehlx', ':', 'jadi', 'presiden', 'itu', 'berat', '!', 'biar', 'pak', '@', 'jokowi', 'saja', '!', '👍', 'https', ':', '//t.co/5inzxk5aeq']\n",
      "['rt', '@', 'candraasmara85', ':', 'edo', 'kondologit', ':', 'sy', 'dukung', '@', 'jokowi', 'krena', 'bliau', 'pemimpin', 'yg', 'sgt', 'merakyat', ',', 'bliau', 'adlh', 'kita', '&', 'amp', ';', 'sdh', 'trbukti', 'kinerjanya', '.', 'sy…']\n",
      "['rt', '@', 'budimandjatmiko', ':', 'survei', 'roy', 'morgan', ':', 'di', 'pedesaan', ',', 'jokowi', '63,5', '%', '&', 'amp', ';', 'prabowo', '36,5', '%', '|', 'https', ':', '//t.co/agi3jkpttk', 'https', ':', '//t.co/2h2lzp2u2a']\n",
      "['rt', '@', 'xcintakiehlx', ':', 'jadi', 'presiden', 'itu', 'berat', '!', 'biar', 'pak', '@', 'jokowi', 'saja', '!', '👍', 'https', ':', '//t.co/5inzxk5aeq']\n",
      "['rt', '@', 'merdekadotcom', ':', 'ketua', 'dpr', 'soal', 'kartu', 'prakerja', 'jokowi', ':', 'harusnya', 'apresiasi', ',', 'bukan', 'malah', 'nyinyir', 'https', ':', '//t.co/0wlawijscx']\n",
      "['rt', '@', 'santripanglima', ':', 'kemnaker', '@', 'hanifdhakiri', 'gandeng', '1.000', 'blk', 'komunitas', 'untuk', 'cetak', 'wirausahawan', '...', '✍', '#', 'sdmpremium', '#', '01indonesiamaju', '@', 'jokowi…']\n",
      "['@', 'fadlizon', '@', 'jokowi', 'ijin', 'pak', '@', 'ekosandjojo', 'ada', 'aduan', 'infestruktur', 'dari', 'om', '@', 'fadlizon', 'mohon', 'di', 'perbaikin', 'jalan', 'nya', 'pak', 'maaf']\n",
      "['pendampingan', 'rapat', 'perangkat', 'desa', 'jejangkit', 'pasar', 'bersama', 'bpd', 'jejangkit', 'pasar', 'kec', '.', 'jejangkit', 'kab', '.', 'barito', 'kuala', 'prov…', 'https', ':', '//t.co/wmwcsdl4di']\n",
      "['rt', '@', 'xcintakiehlx', ':', 'jadi', 'presiden', 'itu', 'berat', '!', 'biar', 'pak', '@', 'jokowi', 'saja', '!', '👍', 'https', ':', '//t.co/5inzxk5aeq']\n",
      "['rt', '@', 'inggitpramesw', ':', '@', 'ratunyirnyir', '@', 'jokowi', '@', 'kataviona', '@', 'indrilestaris', '@', 'adanadiatuh', '@', 'namanyamini', '@', 'thegacoor', '@', 'butetnakal', 'inilah', 'bukti', 'kalo', 'kerja…']\n",
      "['@', 'moel54429954', '@', 'detikfinance', '@', 'detikcom', '@', 'jokowi', 'justru', 'krn', 'belum', ',', 'kok', 'pada', 'dungu', 'ya', ',', 'klo', 'sdh', 'maju', 'ya', 'ga', 'ush', 'punya', 'pem…', 'https', ':', '//t.co/0fnwgvjqti']\n",
      "['rt', '@', 'jansen_jsp', ':', 'hehe', '.', 'coba', 'lihat', 'ulang', 'vlogku', 'kemarin', '.', 'masih', 'ada', 'kok', 'itu', 'di', 'tl', '.', 'aku', 'hanya', 'ngomong', '``', 'lihat', 'ini', 'pak', 'jokowi', \"''\", '.', 'sama', 'seperti', 'misa…']\n",
      "['kubu', 'jokowi', 'melobi', 'ustaz', 'abdul', 'somad', 'tidak', 'merapat', 'ke', 'prabowo-sandi', 'https', ':', '//t.co/tb2mubozgg']\n",
      "['yakinkan', 'ulama', 'aceh', ',', 'surya', 'paloh', ':', 'jokowi', 'tidak', 'anti-islam', 'https', ':', '//t.co/mtegzqvnjk', 'https', ':', '//t.co/oakxwio4g0']\n",
      "['rt', '@', 'sudjiwotedjo', ':', 'yth', 'pak', 'jokowi', 'dan', 'pak', 'probowo', ',', 'bagaimana', 'sampeyan', 'nanti', 'kalau', 'terpilih', 'jadi', 'presiden', '2019', 'bila', 'makin', 'banyak', 'generasi', 'mud…']\n",
      "['rt', '@', 'r_gun4w4n', ':', 'selamat', 'berjuang', 'pak', '@', 'ekosandjojo', 'semoga', 'sukses', 'mewakili', 'masyarakat', 'bengkulu', 'mewujudkan', 'indonesia', 'maju', '...', '✊', 'satukan', 'indones…']\n",
      "['@', 'inggitpramesw', '@', 'jokowi', '@', 'kataviona', '@', 'indrilestaris', '@', 'adanadiatuh', '@', 'namanyamini', '@', 'thegacoor', '@', 'butetnakal', 'betul', 'kak', 'jaman', 'u…', 'https', ':', '//t.co/7t1incn5d2']\n",
      "['rt', '@', 'indonesiakitaco', ':', 'surya', 'paloh', 'beri', 'isyarat', 'pesimis', 'jika', 'jokowi', 'kalah', ',', 'rizal', 'ramli', ':', 'kok', 'ada', 'argumen', 'konyol', 'dan', 'nakutin', '?', 'https', ':', '//t.co/0od…']\n",
      "['rt', '@', 'kafiradikal', ':', '...', 'setelah', 'gua', 'periksa', 'sekitar', '20an', 'tl', 'buzzer', 'jokowi', ',', 'luar', 'biasa', 'kompak', 'kemakan', 'hoax', 'pemprov', 'dki', 'nambah', 'saham', 'di', 'perusahaa…']\n",
      "['rt', '@', 'uki23', ':', '😇', 'ahok', 'itu', 'apa', '?', '😡', 'kafir', '!', '😇', 'kalau', 'rocky', 'gerung', '?', '😡', 'non', 'muslim', '!', '😇', 'bro', ',', 'jokowi', 'jadi', 'imam', 'salat', 'lho', '!', '😡', 'itu', 'riya', '!', 'salat', 'itu', 'ga', 'boleh…']\n",
      "['nahh', 'sekarang', 'sudah', 'tau', 'kan..', 'pak', 'jokowi', 'itu', 'mengerti', 'aturan', ',', 'tidak', 'mungkin', 'beliau', 'melanggar', 'aturan..', '!', '!', '…', 'https', ':', '//t.co/e6w47hw6d8']\n",
      "['@', 'detikcom', '@', 'jokowi', '@', 'detikfinance', 'at', 'least', 'maybe', ',', 'drpd', 'pajak', 'dr', 'rakyat', 'dikorupsi', '🤙']\n"
     ]
    }
   ],
   "source": [
    "for index, row in df.iterrows():\n",
    "    # Stemming\n",
    "    stemmed = stemmer.stem(row[1])\n",
    "    print(stemmed)\n",
    "    #Tokenization\n",
    "    tokens = nltk.word_tokenize(row[1])\n",
    "    #Case Folding\n",
    "    words = [w.lower() for w in tokens]\n",
    "    # Stemming\n",
    "    "
   ]
  },
  {
   "cell_type": "code",
   "execution_count": null,
   "metadata": {},
   "outputs": [],
   "source": []
  }
 ],
 "metadata": {
  "kernelspec": {
   "display_name": "Python (dl)",
   "language": "python",
   "name": "dl"
  },
  "language_info": {
   "codemirror_mode": {
    "name": "ipython",
    "version": 3
   },
   "file_extension": ".py",
   "mimetype": "text/x-python",
   "name": "python",
   "nbconvert_exporter": "python",
   "pygments_lexer": "ipython3",
   "version": "3.6.8"
  }
 },
 "nbformat": 4,
 "nbformat_minor": 2
}
